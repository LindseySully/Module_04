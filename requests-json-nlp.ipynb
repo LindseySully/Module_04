{
 "cells": [
  {
   "cell_type": "markdown",
   "metadata": {},
   "source": [
    "# Web Mining and Applied NLP (44-620)\n",
    "\n",
    "## Requests, JSON, and NLP\n",
    "\n",
    "### Student Name: Lindsey Sullivan\n",
    "### GitHub Repository: https://github.com/LindseySully/Module_04\n",
    "\n",
    "Perform the tasks described in the Markdown cells below.  When you have completed the assignment make sure your code cells have all been run (and have output beneath them) and ensure you have committed and pushed ALL of your changes to your assignment repository.\n",
    "\n",
    "Make sure you have [installed spaCy and its pipeline](https://spacy.io/usage#quickstart) and [spaCyTextBlob](https://spacy.io/universe/project/spacy-textblob)\n",
    "\n",
    "Every question that requires you to write code will have a code cell underneath it; you may either write your entire solution in that cell or write it in a python file (`.py`), then import and run the appropriate code to answer the question.\n",
    "\n",
    "This assignment requires that you write additional files (either JSON or pickle files); make sure to submit those files in your repository as well."
   ]
  },
  {
   "cell_type": "markdown",
   "metadata": {},
   "source": [
    "### Prerequisites"
   ]
  },
  {
   "cell_type": "code",
   "execution_count": 7,
   "metadata": {},
   "outputs": [],
   "source": [
    "## spaCy Pipeline & spaCyTextBlob\n",
    "import spacy\n",
    "from spacytextblob.spacytextblob import SpacyTextBlob\n",
    "\n",
    "nlp = spacy.load(\"en_core_web_sm\")\n",
    "nlp.add_pipe('spacytextblob')\n",
    "\n",
    "import requests\n",
    "import lyricsgenius\n",
    "\n"
   ]
  },
  {
   "cell_type": "markdown",
   "metadata": {},
   "source": [
    "Import of JSON file storing credentials"
   ]
  },
  {
   "cell_type": "code",
   "execution_count": 16,
   "metadata": {},
   "outputs": [],
   "source": [
    "import json\n",
    "\n",
    "credentials = {}\n",
    "try:\n",
    "    with open('credentials.json') as file:\n",
    "        credentials = json.load(file)\n",
    "except FileNotFoundError:\n",
    "    print(\"Error: credentials.json file not found.\")\n"
   ]
  },
  {
   "cell_type": "markdown",
   "metadata": {},
   "source": [
    "### Question 01"
   ]
  },
  {
   "cell_type": "markdown",
   "metadata": {},
   "source": [
    "1. The following code accesses the **lyricgenius** public api, searches for the lyrics of a song, and stores it in a dictionary object.  Write the resulting json to a file (either a JSON file or a pickle file; you choose). You will read in the contents of this file for future questions so we do not need to frequently access the API."
   ]
  },
  {
   "cell_type": "code",
   "execution_count": 14,
   "metadata": {},
   "outputs": [
    {
     "name": "stdout",
     "output_type": "stream",
     "text": [
      "Searching for songs by Coldplay...\n",
      "\n",
      "Song 1: \"Viva la Vida\"\n",
      "Song 2: \"The Scientist\"\n",
      "Song 3: \"Yellow\"\n",
      "\n",
      "Reached user-specified song limit (3).\n",
      "Done. Found 3 songs.\n"
     ]
    }
   ],
   "source": [
    "apiKey = credentials['api_key']\n",
    "genius = lyricsgenius.Genius(apiKey)\n",
    "\n",
    "#search artist songs - max of 3\n",
    "artist = genius.search_artist(\"Coldplay\", max_songs=3)\n"
   ]
  },
  {
   "cell_type": "code",
   "execution_count": 41,
   "metadata": {},
   "outputs": [
    {
     "name": "stdout",
     "output_type": "stream",
     "text": [
      "Coldplay\n",
      "----------\n",
      " The Scientist Lyrics[Verse 1]\n",
      "Come up to meet you, tell you I'm sorry\n",
      "You don't know how lovely you are\n",
      "I had to find you, tell you I need you\n",
      "And tell you I set you apart\n",
      "Tell me your secrets and ask me your questions\n",
      "No, let's go back to the start\n",
      "Runnin' in circles, comin' up tails\n",
      "Heads on a science apart\n",
      "\n",
      "[Chorus]\n",
      "Nobody said it was easy\n",
      "It's such a shame for us to part\n",
      "Nobody said it was easy\n",
      "No one ever said it would be this hard\n",
      "Oh, take me back to the start\n",
      "[Verse 2]\n",
      "I was just guessin' at numbers and figures\n",
      "Pullin' the puzzles apart\n",
      "Questions of science, science and progress\n",
      "Do not speak as loud as my heart\n",
      "And tell me you love me, come back and haunt me\n",
      "Oh, and I rush to the start\n",
      "Runnin' in circles, chasin' our tails\n",
      "Comin' back as we are\n",
      " [Chorus]\n",
      "Nobody said it was easy\n",
      "Oh, it's such a shame for us to part\n",
      "Nobody said it was easy\n",
      "No one ever said it would be so hard\n",
      "I'm goin' back to the start\n",
      "\n",
      "[Outro]\n",
      "Oh-ooh ooh-ooh-ooh-ooh\n",
      "Ah-ooh ooh-ooh-ooh-ooh\n",
      "Oh-ooh ooh-ooh-ooh-ooh\n",
      "Oh-ooh ooh-ooh-ooh-ooh \n"
     ]
    }
   ],
   "source": [
    "#search for single song by the artist\n",
    "song = artist.song(\"The Scientist\")\n",
    "genius.remove_section_headers = True\n",
    "\n",
    "\n",
    "#store song lyrics in variable\n",
    "lyrics = song.lyrics\n",
    "#store artist in variable\n",
    "artist_name = artist.name\n",
    "print(artist_name)\n",
    "print(\"----------\")\n",
    "#clean lyrics\n",
    "start_of_lyrics = lyrics.replace('120 ContributorsTranslationsFrançaisTürkçeEspañolPortuguês',' ')\n",
    "clean_chorus = start_of_lyrics.replace('See Coldplay LiveGet tickets as low as $22You might also like',' ')\n",
    "final_lyrics = clean_chorus.replace('219Embed',' ')\n",
    "print(final_lyrics)"
   ]
  },
  {
   "cell_type": "code",
   "execution_count": 56,
   "metadata": {},
   "outputs": [
    {
     "name": "stdout",
     "output_type": "stream",
     "text": [
      "{\n",
      "  \"artist\": \"Coldplay\",\n",
      "  \"title\": \"The scientist\",\n",
      "  \"lyrics\": \" The Scientist Lyrics[Verse 1]\\nCome up to meet you, tell you I'm sorry\\nYou don't know how lovely you are\\nI had to find you, tell you I need you\\nAnd tell you I set you apart\\nTell me your secrets and ask me your questions\\nNo, let's go back to the start\\nRunnin' in circles, comin' up tails\\nHeads on a science apart\\n\\n[Chorus]\\nNobody said it was easy\\nIt's such a shame for us to part\\nNobody said it was easy\\nNo one ever said it would be this hard\\nOh, take me back to the start\\n[Verse 2]\\nI was just guessin' at numbers and figures\\nPullin' the puzzles apart\\nQuestions of science, science and progress\\nDo not speak as loud as my heart\\nAnd tell me you love me, come back and haunt me\\nOh, and I rush to the start\\nRunnin' in circles, chasin' our tails\\nComin' back as we are\\n [Chorus]\\nNobody said it was easy\\nOh, it's such a shame for us to part\\nNobody said it was easy\\nNo one ever said it would be so hard\\nI'm goin' back to the start\\n\\n[Outro]\\nOh-ooh ooh-ooh-ooh-ooh\\nAh-ooh ooh-ooh-ooh-ooh\\nOh-ooh ooh-ooh-ooh-ooh\\nOh-ooh ooh-ooh-ooh-ooh \"\n",
      "}\n"
     ]
    }
   ],
   "source": [
    "song_dictionary = {\n",
    "    \"artist\": artist_name,\n",
    "    \"title\": \"The scientist\",\n",
    "    \"lyrics\" : final_lyrics\n",
    "}\n",
    "\n",
    "print(json.dumps(song_dictionary, indent=2))\n",
    "\n",
    "#writing JSON data to a file\n",
    "with open(\"thescientist.json\",\"w\") as outfile:\n",
    "    json.dump(song_dictionary,outfile,indent=2)"
   ]
  },
  {
   "cell_type": "markdown",
   "metadata": {},
   "source": [
    "### Question 02"
   ]
  },
  {
   "cell_type": "markdown",
   "metadata": {},
   "source": [
    "2. Read in the contents of your file.  Print the lyrics of the song (not the entire dictionary!) and use spaCyTextBlob to perform sentiment analysis on the lyrics.  Print the polarity score of the sentiment analysis.  Given that the range of the polarity score is `[-1.0,1.0]` which corresponds to how positive or negative the text in question is, do you think the lyrics have a more positive or negative connotaion?  Answer this question in a comment in your code cell."
   ]
  },
  {
   "cell_type": "code",
   "execution_count": 58,
   "metadata": {},
   "outputs": [
    {
     "name": "stdout",
     "output_type": "stream",
     "text": [
      " The Scientist Lyrics[Verse 1]\n",
      "Come up to meet you, tell you I'm sorry\n",
      "You don't know how lovely you are\n",
      "I had to find you, tell you I need you\n",
      "And tell you I set you apart\n",
      "Tell me your secrets and ask me your questions\n",
      "No, let's go back to the start\n",
      "Runnin' in circles, comin' up tails\n",
      "Heads on a science apart\n",
      "\n",
      "[Chorus]\n",
      "Nobody said it was easy\n",
      "It's such a shame for us to part\n",
      "Nobody said it was easy\n",
      "No one ever said it would be this hard\n",
      "Oh, take me back to the start\n",
      "[Verse 2]\n",
      "I was just guessin' at numbers and figures\n",
      "Pullin' the puzzles apart\n",
      "Questions of science, science and progress\n",
      "Do not speak as loud as my heart\n",
      "And tell me you love me, come back and haunt me\n",
      "Oh, and I rush to the start\n",
      "Runnin' in circles, chasin' our tails\n",
      "Comin' back as we are\n",
      " [Chorus]\n",
      "Nobody said it was easy\n",
      "Oh, it's such a shame for us to part\n",
      "Nobody said it was easy\n",
      "No one ever said it would be so hard\n",
      "I'm goin' back to the start\n",
      "\n",
      "[Outro]\n",
      "Oh-ooh ooh-ooh-ooh-ooh\n",
      "Ah-ooh ooh-ooh-ooh-ooh\n",
      "Oh-ooh ooh-ooh-ooh-ooh\n",
      "Oh-ooh ooh-ooh-ooh-ooh \n"
     ]
    }
   ],
   "source": [
    "#read contents of song_dictionary & print lyrics\n",
    "\n",
    "with open ('thescientist.json') as thescientist:\n",
    "    thescientist_dict = json.load(thescientist)\n",
    "    print(thescientist_dict['lyrics'])"
   ]
  },
  {
   "cell_type": "code",
   "execution_count": 61,
   "metadata": {},
   "outputs": [
    {
     "name": "stdout",
     "output_type": "stream",
     "text": [
      "Polarity: 0.10294117647058822\n"
     ]
    }
   ],
   "source": [
    "#sentiment analysis of lyrics\n",
    "doc = nlp(thescientist_dict['lyrics'])\n",
    "print(\"Polarity:\",doc._.blob.polarity)\n",
    "\n",
    "#Based on the polarity; I believe this song does not have a strong pull either way; the polarity is relatively neutral \n",
    "#To me this seems pretty accurate as this song is about how consuming love can be in the positive and negative aspects."
   ]
  },
  {
   "cell_type": "markdown",
   "metadata": {},
   "source": [
    "### Question 03"
   ]
  },
  {
   "cell_type": "markdown",
   "metadata": {},
   "source": [
    "3. Write a function that takes an artist, song, and filename, accesses the **lyricgenius** api to get the song lyrics, and writes the results to the specified filename.  Test this function by getting the lyrics to any four songs of your choice and storing them in different files."
   ]
  },
  {
   "cell_type": "code",
   "execution_count": 73,
   "metadata": {},
   "outputs": [
    {
     "name": "stdout",
     "output_type": "stream",
     "text": [
      "Searching for songs by Coldplay...\n",
      "\n",
      "Song 1: \"Viva la Vida\"\n",
      "Song 2: \"The Scientist\"\n",
      "Song 3: \"Yellow\"\n",
      "\n",
      "Reached user-specified song limit (3).\n",
      "Done. Found 3 songs.\n",
      "{\n",
      "  \"artist\": \"Coldplay\",\n",
      "  \"title\": \"Viva la Vida\",\n",
      "  \"lyrics\": \"220 ContributorsTranslations\\u0939\\u093f\\u0928\\u094d\\u0926\\u0940T\\u00fcrk\\u00e7eEspa\\u00f1olPortugu\\u00easDeutschFran\\u00e7ais\\ud55c\\uad6d\\uc5b4Viva la Vida Lyrics\\nI used to rule the world\\nSeas would rise when I gave the word\\nNow in the morning, I sleep alone\\nSweep the streets I used to own\\n\\n\\nI used to roll the dice\\nFeel the fear in my enemies' eyes\\nListen as the crowd would sing\\n\\\"Now the old king is dead, long live the king\\\"\\nOne minute, I held the key\\nNext, the walls were closed on me\\nAnd I discovered that my castles stand\\nUpon pillars of salt and pillars of sand\\n\\nI hear Jerusalem bells are ringin'\\nRoman cavalry choirs are singin'\\nBe my mirror, my sword and shield\\nMy missionaries in a foreign field\\nFor some reason I can't explain\\nOnce you'd gone, there was never\\nNever an honest word\\nAnd that was when I ruled the world\\nSee Coldplay LiveGet tickets as low as $22You might also like\\n\\nIt was a wicked and wild wind\\nBlew down the doors to let me in\\nShattered windows and the sound of drums\\nPeople couldn't believe what I'd become\\nRevolutionaries wait\\nFor my head on a silver plate\\nJust a puppet on a lonely string (Mmm, mmm)\\nAw, who would ever wanna be king?\\n\\nI hear Jerusalem bells are ringin'\\nRoman cavalry choirs are singin'\\nBe my mirror, my sword and shield\\nMy missionaries in a foreign field\\nFor some reason I can't explain\\nI know Saint Peter won't call my name\\nNever an honest word\\nBut that was when I ruled the world\\n\\nOh-oh-oh, oh-oh, oh\\nOh-oh-oh, oh-oh, oh\\nOh-oh-oh, oh-oh, oh\\nOh-oh-oh, oh-oh, oh\\n(Oh-oh-oh, oh-oh, oh)\\nHear Jerusalem bells are ringin'\\n(Oh-oh-oh, oh-oh, oh)\\nRoman cavalry choirs are singin'\\n(Oh-oh-oh, oh-oh, oh)\\nBe my mirror, my sword and shield\\n(Oh-oh-oh, oh-oh, oh)\\nMy missionaries in a foreign field\\n(Oh-oh-oh, oh-oh, oh)\\nFor some reason I can't explain\\n(Oh-oh-oh, oh-oh, oh)\\nI know Saint Peter won't call my name\\nNever an honest word\\nBut that was when I ruled the world\\n\\nMmm, mmm, mmm, mmm\\nMmm, mmm, mmm, mmm\\nMmm, mmm241Embed\"\n",
      "}\n"
     ]
    }
   ],
   "source": [
    "\n",
    "#function\n",
    "def artist_song_lyrics (artist_name: str,song_title: str,filename: str):\n",
    "    genius.remove_section_headers = True\n",
    "    genius.verbose = False\n",
    "    artist= genius.search_artist(artist_name,max_songs=3,get_full_info = False)\n",
    "    song = artist.song(song_title)\n",
    "    lyrics = song.lyrics\n",
    "\n",
    "    song_dictionary = {\n",
    "        \"artist\": artist_name,\n",
    "        \"title\" : song_title,\n",
    "        \"lyrics\": lyrics\n",
    "    }\n",
    "    print(json.dumps(song_dictionary, indent=2))\n",
    "\n",
    "    with open('{filename}.json',\"w\") as outfile:\n",
    "        json.dump(song_dictionary,outfile,indent=2)\n",
    "\n",
    "#user input\n",
    "artist_name = input(\"Enter Artist's Name:\")\n",
    "song_title = input(\"Enter the song title:\")\n",
    "filename = input(\"Enter your preferred file name:\")\n",
    "\n",
    "artist_song_lyrics(artist_name,song_title,filename)"
   ]
  },
  {
   "cell_type": "markdown",
   "metadata": {},
   "source": [
    "### Question 04"
   ]
  },
  {
   "cell_type": "markdown",
   "metadata": {},
   "source": [
    "4. Write a function that takes the name of a file that contains song lyrics, loads the file, performs sentiment analysis, and returns the polarity score.  Use this function to print the polarity scores (with the name of the song) of the three files you created in question 3.  Does the reported polarity match your understanding of the song's lyrics? Why or why not do you think that might be?  Answer the questions in either a comment in the code cell or a markdown cell under the code cell."
   ]
  },
  {
   "cell_type": "code",
   "execution_count": null,
   "metadata": {},
   "outputs": [],
   "source": []
  }
 ],
 "metadata": {
  "kernelspec": {
   "display_name": "Python 3",
   "language": "python",
   "name": "python3"
  },
  "language_info": {
   "codemirror_mode": {
    "name": "ipython",
    "version": 3
   },
   "file_extension": ".py",
   "mimetype": "text/x-python",
   "name": "python",
   "nbconvert_exporter": "python",
   "pygments_lexer": "ipython3",
   "version": "3.10.9"
  }
 },
 "nbformat": 4,
 "nbformat_minor": 4
}
