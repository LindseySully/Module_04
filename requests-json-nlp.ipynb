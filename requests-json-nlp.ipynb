{
 "cells": [
  {
   "cell_type": "markdown",
   "metadata": {},
   "source": [
    "# Web Mining and Applied NLP (44-620)\n",
    "\n",
    "## Requests, JSON, and NLP\n",
    "\n",
    "### Student Name: Lindsey Sullivan\n",
    "### GitHub Repository: https://github.com/LindseySully/Module_04\n",
    "\n",
    "Perform the tasks described in the Markdown cells below.  When you have completed the assignment make sure your code cells have all been run (and have output beneath them) and ensure you have committed and pushed ALL of your changes to your assignment repository.\n",
    "\n",
    "Make sure you have [installed spaCy and its pipeline](https://spacy.io/usage#quickstart) and [spaCyTextBlob](https://spacy.io/universe/project/spacy-textblob)\n",
    "\n",
    "Every question that requires you to write code will have a code cell underneath it; you may either write your entire solution in that cell or write it in a python file (`.py`), then import and run the appropriate code to answer the question.\n",
    "\n",
    "This assignment requires that you write additional files (either JSON or pickle files); make sure to submit those files in your repository as well."
   ]
  },
  {
   "cell_type": "markdown",
   "metadata": {},
   "source": [
    "### Prerequisites"
   ]
  },
  {
   "cell_type": "code",
   "execution_count": 95,
   "metadata": {},
   "outputs": [],
   "source": [
    "## spaCy Pipeline & spaCyTextBlob\n",
    "import spacy\n",
    "from spacytextblob.spacytextblob import SpacyTextBlob\n",
    "\n",
    "nlp = spacy.load(\"en_core_web_sm\")\n",
    "nlp.add_pipe('spacytextblob')\n",
    "\n",
    "import requests\n",
    "import lyricsgenius\n",
    "\n"
   ]
  },
  {
   "cell_type": "markdown",
   "metadata": {},
   "source": [
    "Import of JSON file storing credentials"
   ]
  },
  {
   "cell_type": "code",
   "execution_count": 78,
   "metadata": {},
   "outputs": [],
   "source": [
    "import json\n",
    "\n",
    "credentials = {}\n",
    "try:\n",
    "    with open('credentials.json') as file:\n",
    "        credentials = json.load(file)\n",
    "except FileNotFoundError:\n",
    "    print(\"Error: credentials.json file not found.\")\n"
   ]
  },
  {
   "cell_type": "markdown",
   "metadata": {},
   "source": [
    "### Question 01"
   ]
  },
  {
   "cell_type": "markdown",
   "metadata": {},
   "source": [
    "1. The following code accesses the **lyricgenius** public api, searches for the lyrics of a song, and stores it in a dictionary object.  Write the resulting json to a file (either a JSON file or a pickle file; you choose). You will read in the contents of this file for future questions so we do not need to frequently access the API."
   ]
  },
  {
   "cell_type": "code",
   "execution_count": 79,
   "metadata": {},
   "outputs": [
    {
     "name": "stdout",
     "output_type": "stream",
     "text": [
      "Searching for songs by Coldplay...\n",
      "\n",
      "Song 1: \"Viva la Vida\"\n",
      "Song 2: \"The Scientist\"\n",
      "Song 3: \"Yellow\"\n",
      "\n",
      "Reached user-specified song limit (3).\n",
      "Done. Found 3 songs.\n"
     ]
    }
   ],
   "source": [
    "apiKey = credentials['api_key']\n",
    "genius = lyricsgenius.Genius(apiKey)\n",
    "\n",
    "#search artist songs - max of 3\n",
    "artist = genius.search_artist(\"Coldplay\", max_songs=3)\n"
   ]
  },
  {
   "cell_type": "code",
   "execution_count": 94,
   "metadata": {},
   "outputs": [
    {
     "name": "stdout",
     "output_type": "stream",
     "text": [
      "Coldplay\n",
      "----------\n",
      " The Scientist Lyrics[Verse 1]\n",
      "Come up to meet you, tell you I'm sorry\n",
      "You don't know how lovely you are\n",
      "I had to find you, tell you I need you\n",
      "And tell you I set you apart\n",
      "Tell me your secrets and ask me your questions\n",
      "No, let's go back to the start\n",
      "Runnin' in circles, comin' up tails\n",
      "Heads on a science apart\n",
      "\n",
      "[Chorus]\n",
      "Nobody said it was easy\n",
      "It's such a shame for us to part\n",
      "Nobody said it was easy\n",
      "No one ever said it would be this hard\n",
      "Oh, take me back to the start\n",
      "[Verse 2]\n",
      "I was just guessin' at numbers and figures\n",
      "Pullin' the puzzles apart\n",
      "Questions of science, science and progress\n",
      "Do not speak as loud as my heart\n",
      "And tell me you love me, come back and haunt me\n",
      "Oh, and I rush to the start\n",
      "Runnin' in circles, chasin' our tails\n",
      "Comin' back as we are\n",
      " [Chorus]\n",
      "Nobody said it was easy\n",
      "Oh, it's such a shame for us to part\n",
      "Nobody said it was easy\n",
      "No one ever said it would be so hard\n",
      "I'm goin' back to the start\n",
      "\n",
      "[Outro]\n",
      "Oh-ooh ooh-ooh-ooh-ooh\n",
      "Ah-ooh ooh-ooh-ooh-ooh\n",
      "Oh-ooh ooh-ooh-ooh-ooh\n",
      "Oh-ooh ooh-ooh-ooh-ooh \n"
     ]
    }
   ],
   "source": [
    "#search for single song by the artist\n",
    "song = artist.song(\"The Scientist\")\n",
    "genius.remove_section_headers = True\n",
    "\n",
    "\n",
    "#store song lyrics in variable\n",
    "lyrics = song.lyrics\n",
    "#store artist in variable\n",
    "artist_name = artist.name\n",
    "print(artist_name)\n",
    "print(\"----------\")\n",
    "\n",
    "#clean lyrics\n",
    "start_of_lyrics = lyrics.replace('120 ContributorsTranslationsFrançaisTürkçeEspañolPortuguês',' ')\n",
    "clean_chorus = start_of_lyrics.replace('See Coldplay LiveGet tickets as low as $22You might also like',' ')\n",
    "final_lyrics = clean_chorus.replace('219Embed',' ')\n",
    "\n",
    "print(final_lyrics)"
   ]
  },
  {
   "cell_type": "code",
   "execution_count": 93,
   "metadata": {},
   "outputs": [
    {
     "name": "stdout",
     "output_type": "stream",
     "text": [
      "{\n",
      "  \"artist\": \"Spiritbox\",\n",
      "  \"title\": \"The scientist\",\n",
      "  \"lyrics\": \" The Scientist Lyrics[Verse 1]\\nCome up to meet you, tell you I'm sorry\\nYou don't know how lovely you are\\nI had to find you, tell you I need you\\nAnd tell you I set you apart\\nTell me your secrets and ask me your questions\\nNo, let's go back to the start\\nRunnin' in circles, comin' up tails\\nHeads on a science apart\\n\\n[Chorus]\\nNobody said it was easy\\nIt's such a shame for us to part\\nNobody said it was easy\\nNo one ever said it would be this hard\\nOh, take me back to the start\\n[Verse 2]\\nI was just guessin' at numbers and figures\\nPullin' the puzzles apart\\nQuestions of science, science and progress\\nDo not speak as loud as my heart\\nAnd tell me you love me, come back and haunt me\\nOh, and I rush to the start\\nRunnin' in circles, chasin' our tails\\nComin' back as we are\\n [Chorus]\\nNobody said it was easy\\nOh, it's such a shame for us to part\\nNobody said it was easy\\nNo one ever said it would be so hard\\nI'm goin' back to the start\\n\\n[Outro]\\nOh-ooh ooh-ooh-ooh-ooh\\nAh-ooh ooh-ooh-ooh-ooh\\nOh-ooh ooh-ooh-ooh-ooh\\nOh-ooh ooh-ooh-ooh-ooh \"\n",
      "}\n"
     ]
    }
   ],
   "source": [
    "\n",
    "\n",
    "song_dictionary = {\n",
    "    \"artist\": artist_name,\n",
    "    \"title\": \"The scientist\",\n",
    "    \"lyrics\" : final_lyrics\n",
    "}\n",
    "\n",
    "print(json.dumps(song_dictionary, indent=2))\n",
    "\n",
    "#writing JSON data to a file\n",
    "with open(\"thescientist.json\",\"w\") as outfile:\n",
    "    json.dump(song_dictionary,outfile,indent=2)"
   ]
  },
  {
   "cell_type": "markdown",
   "metadata": {},
   "source": [
    "### Question 02"
   ]
  },
  {
   "cell_type": "markdown",
   "metadata": {},
   "source": [
    "2. Read in the contents of your file.  Print the lyrics of the song (not the entire dictionary!) and use spaCyTextBlob to perform sentiment analysis on the lyrics.  Print the polarity score of the sentiment analysis.  Given that the range of the polarity score is `[-1.0,1.0]` which corresponds to how positive or negative the text in question is, do you think the lyrics have a more positive or negative connotaion?  Answer this question in a comment in your code cell."
   ]
  },
  {
   "cell_type": "code",
   "execution_count": 82,
   "metadata": {},
   "outputs": [
    {
     "name": "stdout",
     "output_type": "stream",
     "text": [
      " The Scientist Lyrics[Verse 1]\n",
      "Come up to meet you, tell you I'm sorry\n",
      "You don't know how lovely you are\n",
      "I had to find you, tell you I need you\n",
      "And tell you I set you apart\n",
      "Tell me your secrets and ask me your questions\n",
      "No, let's go back to the start\n",
      "Runnin' in circles, comin' up tails\n",
      "Heads on a science apart\n",
      "\n",
      "[Chorus]\n",
      "Nobody said it was easy\n",
      "It's such a shame for us to part\n",
      "Nobody said it was easy\n",
      "No one ever said it would be this hard\n",
      "Oh, take me back to the start\n",
      "[Verse 2]\n",
      "I was just guessin' at numbers and figures\n",
      "Pullin' the puzzles apart\n",
      "Questions of science, science and progress\n",
      "Do not speak as loud as my heart\n",
      "And tell me you love me, come back and haunt me\n",
      "Oh, and I rush to the start\n",
      "Runnin' in circles, chasin' our tails\n",
      "Comin' back as we are\n",
      " [Chorus]\n",
      "Nobody said it was easy\n",
      "Oh, it's such a shame for us to part\n",
      "Nobody said it was easy\n",
      "No one ever said it would be so hard\n",
      "I'm goin' back to the start\n",
      "\n",
      "[Outro]\n",
      "Oh-ooh ooh-ooh-ooh-ooh\n",
      "Ah-ooh ooh-ooh-ooh-ooh\n",
      "Oh-ooh ooh-ooh-ooh-ooh\n",
      "Oh-ooh ooh-ooh-ooh-ooh \n"
     ]
    }
   ],
   "source": [
    "#read contents of song_dictionary & print lyrics\n",
    "\n",
    "with open ('thescientist.json') as thescientist:\n",
    "    thescientist_dict = json.load(thescientist)\n",
    "    print(thescientist_dict['lyrics'])"
   ]
  },
  {
   "cell_type": "code",
   "execution_count": 83,
   "metadata": {},
   "outputs": [
    {
     "name": "stdout",
     "output_type": "stream",
     "text": [
      "Polarity: 0.10294117647058822\n"
     ]
    }
   ],
   "source": [
    "#sentiment analysis of lyrics\n",
    "doc = nlp(thescientist_dict['lyrics'])\n",
    "print(\"Polarity:\",doc._.blob.polarity)\n",
    "\n",
    "#Based on the polarity; I believe this song does not have a strong pull either way; the polarity is relatively neutral \n",
    "#To me this seems pretty accurate as this song is about how consuming love can be in the positive and negative aspects."
   ]
  },
  {
   "cell_type": "markdown",
   "metadata": {},
   "source": [
    "### Question 03"
   ]
  },
  {
   "cell_type": "markdown",
   "metadata": {},
   "source": [
    "3. Write a function that takes an artist, song, and filename, accesses the **lyricgenius** api to get the song lyrics, and writes the results to the specified filename.  Test this function by getting the lyrics to any four songs of your choice and storing them in different files."
   ]
  },
  {
   "cell_type": "code",
   "execution_count": 88,
   "metadata": {},
   "outputs": [
    {
     "name": "stdout",
     "output_type": "stream",
     "text": [
      "{\n",
      "  \"artist\": \"Spiritbox\",\n",
      "  \"title\": \"Rotoscope\",\n",
      "  \"lyrics\": \"9 ContributorsRotoscope Lyrics\\nShadows bloom in the skyline\\nSurface tension keeps dust in my eyes\\nI can't take back the skeletons that haunt me frame by frame\\nI can rapture the imprints sent to bore into my brain\\nAnd I know that I feel the end is imminent\\n\\nHow long have I felt this way? Sign of the times\\nShadows sway to light up my life\\nTrace the answers, tears have never made me\\nChange from violent delights\\nShadows sway, light up my life\\nTrace the answers, tears have never made me change\\n\\nShallow, this is what I created\\nSplayed-out skeletons in the cracks in the pavement\\nAnd now can you feel the injection back behind those cloudy eyes?\\nIn between every cataract, a projection of my life\\n\\nHow long have I felt this way? Sign of the times\\nShadows sway to light up my life\\nTrace the answers, tears have never made me\\nChange from violent delights\\nShadows sway, light up my life\\nTrace the answers, tears have never made me change\\nSee Spiritbox LiveGet tickets as low as $26You might also like\\nIn slow motion\\nThe end is imminent, it's imminent\\nWithout your devotion\\nI need that skyline\\nWithout your horizon\\nThe end is imminent, it's imminent (It's imminent, it's imminent)\\n\\nFade, sign of the times\\nShadows sway, light up my life\\nTrace the answers\\n\\nTears have never made me change, sign of the times\\nShadows sway, light up my life\\nTrace the answers, tears have never made me change\\n(How long have I felt this way?)\\nTrace the answers, tears have never made me change (Change, change, change)Embed\"\n",
      "}\n"
     ]
    }
   ],
   "source": [
    "\n",
    "#function\n",
    "def artist_song_lyrics (artist_name: str,song_title: str,filename: str):\n",
    "    genius.remove_section_headers = True\n",
    "    artist= genius.search_artist(artist_name,max_songs=3,get_full_info = False)\n",
    "    song = artist.song(song_title)\n",
    "    lyrics = song.lyrics\n",
    "    \n",
    "    song_dictionary = {\n",
    "        \"artist\": artist_name,\n",
    "        \"title\" : song_title,\n",
    "        \"lyrics\": lyrics\n",
    "    }\n",
    "    print(json.dumps(song_dictionary, indent=2))\n",
    "\n",
    "    with open(filename +'.json',\"w\") as outfile:\n",
    "        json.dump(song_dictionary,outfile,indent=2)\n",
    "\n",
    "#user input\n",
    "artist_name = input(\"Enter Artist's Name:\")\n",
    "song_title = input(\"Enter the song title:\")\n",
    "filename = input(\"Enter your preferred file name:\")\n",
    "\n",
    "artist_song_lyrics(artist_name,song_title,filename)"
   ]
  },
  {
   "cell_type": "markdown",
   "metadata": {},
   "source": [
    "### Question 04"
   ]
  },
  {
   "cell_type": "markdown",
   "metadata": {},
   "source": [
    "4. Write a function that takes the name of a file that contains song lyrics, loads the file, performs sentiment analysis, and returns the polarity score.  Use this function to print the polarity scores (with the name of the song) of the three files you created in question 3.  Does the reported polarity match your understanding of the song's lyrics? Why or why not do you think that might be?  Answer the questions in either a comment in the code cell or a markdown cell under the code cell."
   ]
  },
  {
   "cell_type": "code",
   "execution_count": 109,
   "metadata": {},
   "outputs": [
    {
     "name": "stdout",
     "output_type": "stream",
     "text": [
      "Polarity: 0.19999999999999998 of Alkaline by Sleep Token\n",
      "Polarity: -0.022549019607843133 of Rotoscope by Spiritbox\n",
      "Polarity: 0.020864661654135346 of The Summoning by Sleep Token\n",
      "Polarity: 0.11346358320042532 of Viva la Vida by Coldplay\n"
     ]
    }
   ],
   "source": [
    "def LyricPolarity (filename: str):\n",
    "    with open (filename) as jsonlyrics:\n",
    "        jsonlyrics_dict = json.load(jsonlyrics)\n",
    "    doc = nlp(jsonlyrics_dict['lyrics'])\n",
    "    print(\"Polarity:\",doc._.blob.polarity, 'of', jsonlyrics_dict['title'], 'by', jsonlyrics_dict['artist'])\n",
    "\n",
    "#file 1:\n",
    "LyricPolarity(\"Alkaline-Sleep-Token.json\")\n",
    "\n",
    "#file 2:\n",
    "LyricPolarity(\"Rotoscope-Spiritbox.json\")\n",
    "\n",
    "#file 3:\n",
    "LyricPolarity(\"The-Summoning-Sleep-Token.json\")\n",
    "\n",
    "#file 4\n",
    "LyricPolarity(\"VivalaVida-Coldplay.json\")"
   ]
  },
  {
   "cell_type": "markdown",
   "metadata": {},
   "source": [
    "These do seem to match my understanding of the lyrics. The only issue I would anticipate is due to my inability to fully clean the extra data fromt he lyrics which had contributors, an ad to see the artist in person, and the emded code at the bottom of the lyrics. "
   ]
  },
  {
   "cell_type": "code",
   "execution_count": null,
   "metadata": {},
   "outputs": [
    {
     "data": {
      "text/plain": [
       "0"
      ]
     },
     "execution_count": 105,
     "metadata": {},
     "output_type": "execute_result"
    }
   ],
   "source": [
    "import os\n",
    "os.system('jupyter nbconvert --to html requests-json-nlp.ipynb')"
   ]
  }
 ],
 "metadata": {
  "kernelspec": {
   "display_name": "Python 3",
   "language": "python",
   "name": "python3"
  },
  "language_info": {
   "codemirror_mode": {
    "name": "ipython",
    "version": 3
   },
   "file_extension": ".py",
   "mimetype": "text/x-python",
   "name": "python",
   "nbconvert_exporter": "python",
   "pygments_lexer": "ipython3",
   "version": "3.10.9"
  }
 },
 "nbformat": 4,
 "nbformat_minor": 4
}
